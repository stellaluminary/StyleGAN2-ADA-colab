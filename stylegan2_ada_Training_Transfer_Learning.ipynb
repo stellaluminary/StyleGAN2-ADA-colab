{
  "cells": [
    {
      "cell_type": "code",
      "execution_count": null,
      "metadata": {
        "colab": {
          "base_uri": "https://localhost:8080/"
        },
        "id": "oUBgUe2tb02v",
        "outputId": "99de3ada-c6c4-4161-8908-065d6e8aaba1"
      },
      "outputs": [
        {
          "output_type": "stream",
          "name": "stdout",
          "text": [
            "Wed Oct 12 04:48:50 2022       \n",
            "+-----------------------------------------------------------------------------+\n",
            "| NVIDIA-SMI 460.32.03    Driver Version: 460.32.03    CUDA Version: 11.2     |\n",
            "|-------------------------------+----------------------+----------------------+\n",
            "| GPU  Name        Persistence-M| Bus-Id        Disp.A | Volatile Uncorr. ECC |\n",
            "| Fan  Temp  Perf  Pwr:Usage/Cap|         Memory-Usage | GPU-Util  Compute M. |\n",
            "|                               |                      |               MIG M. |\n",
            "|===============================+======================+======================|\n",
            "|   0  Tesla T4            Off  | 00000000:00:04.0 Off |                    0 |\n",
            "| N/A   52C    P8    10W /  70W |      0MiB / 15109MiB |      0%      Default |\n",
            "|                               |                      |                  N/A |\n",
            "+-------------------------------+----------------------+----------------------+\n",
            "                                                                               \n",
            "+-----------------------------------------------------------------------------+\n",
            "| Processes:                                                                  |\n",
            "|  GPU   GI   CI        PID   Type   Process name                  GPU Memory |\n",
            "|        ID   ID                                                   Usage      |\n",
            "|=============================================================================|\n",
            "|  No running processes found                                                 |\n",
            "+-----------------------------------------------------------------------------+\n"
          ]
        }
      ],
      "source": [
        "!nvidia-smi"
      ]
    },
    {
      "cell_type": "markdown",
      "metadata": {
        "id": "wzWrFN_tGV-Y"
      },
      "source": [
        "# Set Up Environment\n",
        "\n",
        "1) Google Drive에 Mount를 진행함.\n",
        "\n",
        "2) 필요 package install\n",
        "\n",
        "3) 공식 StyleGAN2-ADA git clone"
      ]
    },
    {
      "cell_type": "code",
      "execution_count": null,
      "metadata": {
        "colab": {
          "base_uri": "https://localhost:8080/"
        },
        "id": "uxs1j1bk_fwj",
        "outputId": "f3cf66f3-6430-4f26-b157-30b3e7abf249"
      },
      "outputs": [
        {
          "output_type": "stream",
          "name": "stdout",
          "text": [
            "Mounted at /content/drive\n",
            "Note: using Google CoLab\n"
          ]
        }
      ],
      "source": [
        "try:\n",
        "    from google.colab import drive\n",
        "    drive.mount('/content/drive', force_remount=True)\n",
        "    COLAB = True\n",
        "    print(\"Note: using Google CoLab\")\n",
        "except:\n",
        "    print(\"Note: not using Google CoLab\")\n",
        "    COLAB = False"
      ]
    },
    {
      "cell_type": "code",
      "source": [
        "!pip install torch==1.8.1 torchvision==0.9.1\n",
        "!pip install ninja"
      ],
      "metadata": {
        "id": "g65tS3jdMG42",
        "colab": {
          "base_uri": "https://localhost:8080/"
        },
        "outputId": "1d653d02-cb9f-465b-e70a-1b0f41b332cd"
      },
      "execution_count": null,
      "outputs": [
        {
          "output_type": "stream",
          "name": "stdout",
          "text": [
            "Looking in indexes: https://pypi.org/simple, https://us-python.pkg.dev/colab-wheels/public/simple/\n",
            "Collecting torch==1.8.1\n",
            "  Downloading torch-1.8.1-cp37-cp37m-manylinux1_x86_64.whl (804.1 MB)\n",
            "\u001b[K     |████████████████████████████████| 804.1 MB 2.6 kB/s \n",
            "\u001b[?25hCollecting torchvision==0.9.1\n",
            "  Downloading torchvision-0.9.1-cp37-cp37m-manylinux1_x86_64.whl (17.4 MB)\n",
            "\u001b[K     |████████████████████████████████| 17.4 MB 63.5 MB/s \n",
            "\u001b[?25hRequirement already satisfied: numpy in /usr/local/lib/python3.7/dist-packages (from torch==1.8.1) (1.21.6)\n",
            "Requirement already satisfied: typing-extensions in /usr/local/lib/python3.7/dist-packages (from torch==1.8.1) (4.1.1)\n",
            "Requirement already satisfied: pillow>=4.1.1 in /usr/local/lib/python3.7/dist-packages (from torchvision==0.9.1) (7.1.2)\n",
            "Installing collected packages: torch, torchvision\n",
            "  Attempting uninstall: torch\n",
            "    Found existing installation: torch 1.12.1+cu113\n",
            "    Uninstalling torch-1.12.1+cu113:\n",
            "      Successfully uninstalled torch-1.12.1+cu113\n",
            "  Attempting uninstall: torchvision\n",
            "    Found existing installation: torchvision 0.13.1+cu113\n",
            "    Uninstalling torchvision-0.13.1+cu113:\n",
            "      Successfully uninstalled torchvision-0.13.1+cu113\n",
            "\u001b[31mERROR: pip's dependency resolver does not currently take into account all the packages that are installed. This behaviour is the source of the following dependency conflicts.\n",
            "torchtext 0.13.1 requires torch==1.12.1, but you have torch 1.8.1 which is incompatible.\n",
            "torchaudio 0.12.1+cu113 requires torch==1.12.1, but you have torch 1.8.1 which is incompatible.\u001b[0m\n",
            "Successfully installed torch-1.8.1 torchvision-0.9.1\n",
            "Looking in indexes: https://pypi.org/simple, https://us-python.pkg.dev/colab-wheels/public/simple/\n",
            "Collecting ninja\n",
            "  Downloading ninja-1.10.2.4-py2.py3-none-manylinux_2_5_x86_64.manylinux1_x86_64.whl (120 kB)\n",
            "\u001b[K     |████████████████████████████████| 120 kB 33.8 MB/s \n",
            "\u001b[?25hInstalling collected packages: ninja\n",
            "Successfully installed ninja-1.10.2.4\n"
          ]
        }
      ]
    },
    {
      "cell_type": "code",
      "execution_count": null,
      "metadata": {
        "colab": {
          "base_uri": "https://localhost:8080/"
        },
        "id": "uNqsi6VWAlWo",
        "outputId": "af2ea660-57c4-46d1-901e-030b302f7945"
      },
      "outputs": [
        {
          "output_type": "stream",
          "name": "stdout",
          "text": [
            "Cloning into 'stylegan2-ada-pytorch'...\n",
            "remote: Enumerating objects: 128, done.\u001b[K\n",
            "remote: Total 128 (delta 0), reused 0 (delta 0), pack-reused 128\u001b[K\n",
            "Receiving objects: 100% (128/128), 1.12 MiB | 21.26 MiB/s, done.\n",
            "Resolving deltas: 100% (57/57), done.\n"
          ]
        }
      ],
      "source": [
        "!git clone https://github.com/NVlabs/stylegan2-ada-pytorch.git"
      ]
    },
    {
      "cell_type": "markdown",
      "metadata": {
        "id": "_snJl4FEGi4w"
      },
      "source": [
        "# Find Your Files\n",
        "\n",
        "Mount된 이미지 데이터 세트의 개수를 확인하고 압축을 해제함.\n",
        "\n",
        "```\n",
        "/content/drive/MyDrive/data\n",
        "```\n"
      ]
    },
    {
      "cell_type": "code",
      "execution_count": null,
      "metadata": {
        "colab": {
          "base_uri": "https://localhost:8080/"
        },
        "id": "LGdFfTSXBBr5",
        "outputId": "c342b1f3-bb70-42be-ebdc-594949bf6a96"
      },
      "outputs": [
        {
          "output_type": "stream",
          "name": "stdout",
          "text": [
            "anime_5k  anime_face_15k  celeba_hq_15k  Optic1000_512\n"
          ]
        }
      ],
      "source": [
        "!ls /content/drive/MyDrive/data/gan/images"
      ]
    },
    {
      "cell_type": "code",
      "execution_count": null,
      "metadata": {
        "id": "wWc3mINg19cr"
      },
      "outputs": [],
      "source": [
        "!unzip -qq \"/content/drive/MyDrive/data/gan/images/celeba_hq_15k.zip\" -d \"/content/drive/MyDrive/data/gan/images/celeba_hq_15k\""
      ]
    },
    {
      "cell_type": "code",
      "source": [
        "img_dir_name = \"celeba_hq_15k\""
      ],
      "metadata": {
        "id": "y5owlpONKqQ8"
      },
      "execution_count": null,
      "outputs": []
    },
    {
      "cell_type": "code",
      "source": [
        "import glob\n",
        "import os\n",
        "\n",
        "DIR = \"/content/drive/MyDrive/data/gan/images/\" + img_dir_name\n",
        "print (len([name for name in os.listdir(DIR) if os.path.isfile(os.path.join(DIR, name))]))"
      ],
      "metadata": {
        "colab": {
          "base_uri": "https://localhost:8080/"
        },
        "id": "WNc2xB4TJjoo",
        "outputId": "a905823c-fc7f-4faf-9a18-62623c8e2c3c"
      },
      "execution_count": null,
      "outputs": [
        {
          "output_type": "stream",
          "name": "stdout",
          "text": [
            "15000\n"
          ]
        }
      ]
    },
    {
      "cell_type": "markdown",
      "metadata": {
        "id": "JXAgXh8uGo13"
      },
      "source": [
        "# Convert Your Images\n",
        "\n",
        "dataset_tool.py를 활용하여 활용하고자 하는 데이터 세트의 이미지 사이즈를 resize하고 Drive에 저장함."
      ]
    },
    {
      "cell_type": "code",
      "source": [
        "!rm -R /content/drive/MyDrive/data/gan/dataset/circuit/*"
      ],
      "metadata": {
        "id": "2QdRrplFKO5Y",
        "colab": {
          "base_uri": "https://localhost:8080/"
        },
        "outputId": "e83eca59-073a-4574-81ce-208505088bd4"
      },
      "execution_count": null,
      "outputs": [
        {
          "output_type": "stream",
          "name": "stdout",
          "text": [
            "rm: cannot remove '/content/drive/MyDrive/data/gan/dataset/circuit/*': No such file or directory\n"
          ]
        }
      ]
    },
    {
      "cell_type": "code",
      "source": [
        "W, H = 256, 256"
      ],
      "metadata": {
        "id": "7X15V7gVXJzV"
      },
      "execution_count": null,
      "outputs": []
    },
    {
      "cell_type": "code",
      "execution_count": null,
      "metadata": {
        "colab": {
          "base_uri": "https://localhost:8080/"
        },
        "id": "lYP2NlwHA6r9",
        "outputId": "ee30755b-97df-4061-bcef-795f19182577"
      },
      "outputs": [
        {
          "output_type": "stream",
          "name": "stdout",
          "text": [
            "100% 15000/15000 [10:30<00:00, 23.78it/s]\n"
          ]
        }
      ],
      "source": [
        "!python /content/stylegan2-ada-pytorch/dataset_tool.py --source /content/drive/MyDrive/data/gan/images/celeba_hq_15k/ --dest /content/drive/MyDrive/data/gan/dataset/circuit --width {W} --height {H}"
      ]
    },
    {
      "cell_type": "markdown",
      "metadata": {
        "id": "5No-bokaG5Ed"
      },
      "source": [
        "# Training from scratch\n",
        "\n",
        "처음부터 훈련시키거나 특정 위치의 pkl을 활용하여 훈련시키기 위한 코드"
      ]
    },
    {
      "cell_type": "code",
      "execution_count": null,
      "metadata": {
        "id": "tzAdHMp7KLzz"
      },
      "outputs": [],
      "source": [
        "import os\n",
        "\n",
        "# Modify these to suit your needs\n",
        "EXPERIMENTS = \"/content/drive/MyDrive/data/gan/experiments\"\n",
        "DATA = \"/content/drive/MyDrive/data/gan/dataset/circuit\"\n",
        "SNAP = 8\n",
        "\n",
        "# Build the command and run it\n",
        "cmd = f\"/usr/bin/python3 /content/stylegan2-ada-pytorch/train.py --snap {SNAP} --outdir {EXPERIMENTS} --data {DATA}\"\n",
        "!{cmd}"
      ]
    },
    {
      "cell_type": "code",
      "execution_count": null,
      "metadata": {
        "id": "j4g2FUCwG1U_"
      },
      "outputs": [],
      "source": [
        "!/usr/bin/python3 /content/stylegan2-ada-pytorch/train.py --snap 25 --resume /content/drive/MyDrive/data/gan/experiments/00007-circuit-auto1/network-snapshot-000500.pkl --outdir /content/drive/MyDrive/data/gan/experiments --data /content/drive/MyDrive/data/gan/dataset/circuit"
      ]
    },
    {
      "cell_type": "markdown",
      "metadata": {
        "id": "NS-oe6jMG_0A"
      },
      "source": [
        "# Transfer Learning\n",
        "\n",
        "FFHQ pkl 파일을 기반으로 훈련시키고자 하는 데이터 세트를 학습시킬 수 있음.\n",
        "\n",
        "이를 통해 빠르고 좋은 이미지 생성이 가능"
      ]
    },
    {
      "cell_type": "code",
      "source": [
        "#!wget -P /content/drive/MyDrive/data/gan/pretrain https://nvlabs-fi-cdn.nvidia.com/stylegan2-ada-pytorch/pretrained/transfer-learning-source-nets/ffhq-res256-mirror-paper256-noaug.pkl"
      ],
      "metadata": {
        "id": "-vklR0vPJ-0B"
      },
      "execution_count": null,
      "outputs": []
    },
    {
      "cell_type": "code",
      "source": [
        "# RESUME = \"/content/drive/MyDrive/data/gan/pretrain/ffhq-res256-mirror-paper256-noaug.pkl\"\n",
        "# or\n",
        "RESUME = 'ffhq256'\n",
        "\n",
        "FREEZED = 4\n",
        "BATCH = 32"
      ],
      "metadata": {
        "id": "8Bu3YirfKCRc"
      },
      "execution_count": null,
      "outputs": []
    },
    {
      "cell_type": "code",
      "execution_count": null,
      "metadata": {
        "id": "hQnfskjj5hEg",
        "colab": {
          "base_uri": "https://localhost:8080/"
        },
        "outputId": "1135e922-ae62-4ec5-d1f0-3a63d8908aa8"
      },
      "outputs": [
        {
          "output_type": "stream",
          "name": "stdout",
          "text": [
            "\n",
            "Training options:\n",
            "{\n",
            "  \"num_gpus\": 1,\n",
            "  \"image_snapshot_ticks\": 8,\n",
            "  \"network_snapshot_ticks\": 8,\n",
            "  \"metrics\": [\n",
            "    \"fid50k_full\"\n",
            "  ],\n",
            "  \"random_seed\": 0,\n",
            "  \"training_set_kwargs\": {\n",
            "    \"class_name\": \"training.dataset.ImageFolderDataset\",\n",
            "    \"path\": \"/content/drive/MyDrive/data/gan/dataset/circuit\",\n",
            "    \"use_labels\": false,\n",
            "    \"max_size\": 15000,\n",
            "    \"xflip\": false,\n",
            "    \"resolution\": 256\n",
            "  },\n",
            "  \"data_loader_kwargs\": {\n",
            "    \"pin_memory\": true,\n",
            "    \"num_workers\": 3,\n",
            "    \"prefetch_factor\": 2\n",
            "  },\n",
            "  \"G_kwargs\": {\n",
            "    \"class_name\": \"training.networks.Generator\",\n",
            "    \"z_dim\": 512,\n",
            "    \"w_dim\": 512,\n",
            "    \"mapping_kwargs\": {\n",
            "      \"num_layers\": 2\n",
            "    },\n",
            "    \"synthesis_kwargs\": {\n",
            "      \"channel_base\": 16384,\n",
            "      \"channel_max\": 512,\n",
            "      \"num_fp16_res\": 4,\n",
            "      \"conv_clamp\": 256\n",
            "    }\n",
            "  },\n",
            "  \"D_kwargs\": {\n",
            "    \"class_name\": \"training.networks.Discriminator\",\n",
            "    \"block_kwargs\": {\n",
            "      \"freeze_layers\": 4\n",
            "    },\n",
            "    \"mapping_kwargs\": {},\n",
            "    \"epilogue_kwargs\": {\n",
            "      \"mbstd_group_size\": 4\n",
            "    },\n",
            "    \"channel_base\": 16384,\n",
            "    \"channel_max\": 512,\n",
            "    \"num_fp16_res\": 4,\n",
            "    \"conv_clamp\": 256\n",
            "  },\n",
            "  \"G_opt_kwargs\": {\n",
            "    \"class_name\": \"torch.optim.Adam\",\n",
            "    \"lr\": 0.0025,\n",
            "    \"betas\": [\n",
            "      0,\n",
            "      0.99\n",
            "    ],\n",
            "    \"eps\": 1e-08\n",
            "  },\n",
            "  \"D_opt_kwargs\": {\n",
            "    \"class_name\": \"torch.optim.Adam\",\n",
            "    \"lr\": 0.0025,\n",
            "    \"betas\": [\n",
            "      0,\n",
            "      0.99\n",
            "    ],\n",
            "    \"eps\": 1e-08\n",
            "  },\n",
            "  \"loss_kwargs\": {\n",
            "    \"class_name\": \"training.loss.StyleGAN2Loss\",\n",
            "    \"r1_gamma\": 0.8192\n",
            "  },\n",
            "  \"total_kimg\": 25000,\n",
            "  \"batch_size\": 32,\n",
            "  \"batch_gpu\": 32,\n",
            "  \"ema_kimg\": 5.0,\n",
            "  \"ema_rampup\": null,\n",
            "  \"ada_target\": 0.6,\n",
            "  \"augment_kwargs\": {\n",
            "    \"class_name\": \"training.augment.AugmentPipe\",\n",
            "    \"xflip\": 1,\n",
            "    \"rotate90\": 1,\n",
            "    \"xint\": 1,\n",
            "    \"scale\": 1,\n",
            "    \"rotate\": 1,\n",
            "    \"aniso\": 1,\n",
            "    \"xfrac\": 1,\n",
            "    \"brightness\": 1,\n",
            "    \"contrast\": 1,\n",
            "    \"lumaflip\": 1,\n",
            "    \"hue\": 1,\n",
            "    \"saturation\": 1\n",
            "  },\n",
            "  \"resume_pkl\": \"https://nvlabs-fi-cdn.nvidia.com/stylegan2-ada-pytorch/pretrained/transfer-learning-source-nets/ffhq-res256-mirror-paper256-noaug.pkl\",\n",
            "  \"ada_kimg\": 100,\n",
            "  \"run_dir\": \"/content/drive/MyDrive/data/gan/experiments/00003-circuit-auto1-batch32-resumeffhq256-freezed4\"\n",
            "}\n",
            "\n",
            "Output directory:   /content/drive/MyDrive/data/gan/experiments/00003-circuit-auto1-batch32-resumeffhq256-freezed4\n",
            "Training data:      /content/drive/MyDrive/data/gan/dataset/circuit\n",
            "Training duration:  25000 kimg\n",
            "Number of GPUs:     1\n",
            "Number of images:   15000\n",
            "Image resolution:   256\n",
            "Conditional model:  False\n",
            "Dataset x-flips:    False\n",
            "\n",
            "Creating output directory...\n",
            "Launching processes...\n",
            "Loading training set...\n",
            "\n",
            "Num images:  15000\n",
            "Image shape: [3, 256, 256]\n",
            "Label shape: [0]\n",
            "\n",
            "Constructing networks...\n",
            "Resuming from \"https://nvlabs-fi-cdn.nvidia.com/stylegan2-ada-pytorch/pretrained/transfer-learning-source-nets/ffhq-res256-mirror-paper256-noaug.pkl\"\n",
            "Setting up PyTorch plugin \"bias_act_plugin\"... Done.\n",
            "Setting up PyTorch plugin \"upfirdn2d_plugin\"... Done.\n",
            "\n",
            "Generator             Parameters  Buffers  Output shape         Datatype\n",
            "---                   ---         ---      ---                  ---     \n",
            "mapping.fc0           262656      -        [32, 512]            float32 \n",
            "mapping.fc1           262656      -        [32, 512]            float32 \n",
            "mapping               -           512      [32, 14, 512]        float32 \n",
            "synthesis.b4.conv1    2622465     32       [32, 512, 4, 4]      float32 \n",
            "synthesis.b4.torgb    264195      -        [32, 3, 4, 4]        float32 \n",
            "synthesis.b4:0        8192        16       [32, 512, 4, 4]      float32 \n",
            "synthesis.b4:1        -           -        [32, 512, 4, 4]      float32 \n",
            "synthesis.b8.conv0    2622465     80       [32, 512, 8, 8]      float32 \n",
            "synthesis.b8.conv1    2622465     80       [32, 512, 8, 8]      float32 \n",
            "synthesis.b8.torgb    264195      -        [32, 3, 8, 8]        float32 \n",
            "synthesis.b8:0        -           16       [32, 512, 8, 8]      float32 \n",
            "synthesis.b8:1        -           -        [32, 512, 8, 8]      float32 \n",
            "synthesis.b16.conv0   2622465     272      [32, 512, 16, 16]    float32 \n",
            "synthesis.b16.conv1   2622465     272      [32, 512, 16, 16]    float32 \n",
            "synthesis.b16.torgb   264195      -        [32, 3, 16, 16]      float32 \n",
            "synthesis.b16:0       -           16       [32, 512, 16, 16]    float32 \n",
            "synthesis.b16:1       -           -        [32, 512, 16, 16]    float32 \n",
            "synthesis.b32.conv0   2622465     1040     [32, 512, 32, 32]    float16 \n",
            "synthesis.b32.conv1   2622465     1040     [32, 512, 32, 32]    float16 \n",
            "synthesis.b32.torgb   264195      -        [32, 3, 32, 32]      float16 \n",
            "synthesis.b32:0       -           16       [32, 512, 32, 32]    float16 \n",
            "synthesis.b32:1       -           -        [32, 512, 32, 32]    float32 \n",
            "synthesis.b64.conv0   1442561     4112     [32, 256, 64, 64]    float16 \n",
            "synthesis.b64.conv1   721409      4112     [32, 256, 64, 64]    float16 \n",
            "synthesis.b64.torgb   132099      -        [32, 3, 64, 64]      float16 \n",
            "synthesis.b64:0       -           16       [32, 256, 64, 64]    float16 \n",
            "synthesis.b64:1       -           -        [32, 256, 64, 64]    float32 \n",
            "synthesis.b128.conv0  426369      16400    [32, 128, 128, 128]  float16 \n",
            "synthesis.b128.conv1  213249      16400    [32, 128, 128, 128]  float16 \n",
            "synthesis.b128.torgb  66051       -        [32, 3, 128, 128]    float16 \n",
            "synthesis.b128:0      -           16       [32, 128, 128, 128]  float16 \n",
            "synthesis.b128:1      -           -        [32, 128, 128, 128]  float32 \n",
            "synthesis.b256.conv0  139457      65552    [32, 64, 256, 256]   float16 \n",
            "synthesis.b256.conv1  69761       65552    [32, 64, 256, 256]   float16 \n",
            "synthesis.b256.torgb  33027       -        [32, 3, 256, 256]    float16 \n",
            "synthesis.b256:0      -           16       [32, 64, 256, 256]   float16 \n",
            "synthesis.b256:1      -           -        [32, 64, 256, 256]   float32 \n",
            "---                   ---         ---      ---                  ---     \n",
            "Total                 23191522    175568   -                    -       \n",
            "\n",
            "\n",
            "Discriminator  Parameters  Buffers  Output shape         Datatype\n",
            "---            ---         ---      ---                  ---     \n",
            "b256.fromrgb   -           272      [32, 64, 256, 256]   float16 \n",
            "b256.skip      -           8208     [32, 128, 128, 128]  float16 \n",
            "b256.conv0     -           36944    [32, 64, 256, 256]   float16 \n",
            "b256.conv1     -           73872    [32, 128, 128, 128]  float16 \n",
            "b256           -           16       [32, 128, 128, 128]  float16 \n",
            "b128.skip      32768       16       [32, 256, 64, 64]    float16 \n",
            "b128.conv0     147584      16       [32, 128, 128, 128]  float16 \n",
            "b128.conv1     295168      16       [32, 256, 64, 64]    float16 \n",
            "b128           -           16       [32, 256, 64, 64]    float16 \n",
            "b64.skip       131072      16       [32, 512, 32, 32]    float16 \n",
            "b64.conv0      590080      16       [32, 256, 64, 64]    float16 \n",
            "b64.conv1      1180160     16       [32, 512, 32, 32]    float16 \n",
            "b64            -           16       [32, 512, 32, 32]    float16 \n",
            "b32.skip       262144      16       [32, 512, 16, 16]    float16 \n",
            "b32.conv0      2359808     16       [32, 512, 32, 32]    float16 \n",
            "b32.conv1      2359808     16       [32, 512, 16, 16]    float16 \n",
            "b32            -           16       [32, 512, 16, 16]    float16 \n",
            "b16.skip       262144      16       [32, 512, 8, 8]      float32 \n",
            "b16.conv0      2359808     16       [32, 512, 16, 16]    float32 \n",
            "b16.conv1      2359808     16       [32, 512, 8, 8]      float32 \n",
            "b16            -           16       [32, 512, 8, 8]      float32 \n",
            "b8.skip        262144      16       [32, 512, 4, 4]      float32 \n",
            "b8.conv0       2359808     16       [32, 512, 8, 8]      float32 \n",
            "b8.conv1       2359808     16       [32, 512, 4, 4]      float32 \n",
            "b8             -           16       [32, 512, 4, 4]      float32 \n",
            "b4.mbstd       -           -        [32, 513, 4, 4]      float32 \n",
            "b4.conv        2364416     16       [32, 512, 4, 4]      float32 \n",
            "b4.fc          4194816     -        [32, 512]            float32 \n",
            "b4.out         513         -        [32, 1]              float32 \n",
            "---            ---         ---      ---                  ---     \n",
            "Total          23881857    119648   -                    -       \n",
            "\n",
            "Setting up augmentation...\n",
            "Distributing across 1 GPUs...\n",
            "Setting up training phases...\n",
            "Exporting sample images...\n",
            "Initializing logs...\n",
            "Training for 25000 kimg...\n",
            "\n",
            "tick 0     kimg 0.0      time 21s          sec/tick 5.8     sec/kimg 181.79  maintenance 15.6   cpumem 3.46   gpumem 10.12  augment 0.000\n",
            "Evaluating metrics...\n",
            "{\"results\": {\"fid50k_full\": 115.12327570811452}, \"metric\": \"fid50k_full\", \"total_time\": 635.9753165245056, \"total_time_str\": \"10m 36s\", \"num_gpus\": 1, \"snapshot_pkl\": \"network-snapshot-000000.pkl\", \"timestamp\": 1665161037.3015022}\n",
            "tick 1     kimg 4.0      time 14m 36s      sec/tick 216.6   sec/kimg 54.14   maintenance 637.8  cpumem 4.40   gpumem 9.89   augment 0.036\n",
            "tick 2     kimg 8.0      time 18m 13s      sec/tick 217.5   sec/kimg 54.38   maintenance 0.2    cpumem 4.40   gpumem 9.95   augment 0.068\n",
            "tick 3     kimg 12.0     time 21m 52s      sec/tick 218.0   sec/kimg 54.49   maintenance 0.2    cpumem 4.40   gpumem 9.99   augment 0.104\n",
            "tick 4     kimg 16.0     time 25m 30s      sec/tick 218.5   sec/kimg 54.63   maintenance 0.0    cpumem 4.40   gpumem 9.94   augment 0.132\n",
            "tick 5     kimg 20.0     time 29m 08s      sec/tick 218.0   sec/kimg 54.50   maintenance 0.2    cpumem 4.40   gpumem 9.99   augment 0.146\n",
            "tick 6     kimg 24.0     time 32m 46s      sec/tick 217.3   sec/kimg 54.34   maintenance 0.2    cpumem 4.40   gpumem 9.96   augment 0.161\n",
            "tick 7     kimg 28.0     time 36m 25s      sec/tick 218.4   sec/kimg 54.59   maintenance 0.2    cpumem 4.40   gpumem 9.95   augment 0.177\n",
            "tick 8     kimg 32.0     time 40m 03s      sec/tick 218.8   sec/kimg 54.70   maintenance 0.0    cpumem 4.40   gpumem 10.09  augment 0.188\n",
            "Evaluating metrics...\n",
            "{\"results\": {\"fid50k_full\": 10.270159574945119}, \"metric\": \"fid50k_full\", \"total_time\": 569.7701151371002, \"total_time_str\": \"9m 30s\", \"num_gpus\": 1, \"snapshot_pkl\": \"network-snapshot-000032.pkl\", \"timestamp\": 1665163353.2752264}\n",
            "tick 9     kimg 36.0     time 53m 13s      sec/tick 218.1   sec/kimg 54.53   maintenance 571.7  cpumem 4.40   gpumem 10.10  augment 0.182\n",
            "tick 10    kimg 40.0     time 56m 52s      sec/tick 218.1   sec/kimg 54.53   maintenance 0.2    cpumem 4.40   gpumem 10.03  augment 0.184\n",
            "tick 11    kimg 44.0     time 1h 00m 30s   sec/tick 217.7   sec/kimg 54.42   maintenance 0.2    cpumem 4.40   gpumem 10.17  augment 0.183\n",
            "tick 12    kimg 48.0     time 1h 04m 08s   sec/tick 218.8   sec/kimg 54.69   maintenance 0.0    cpumem 4.40   gpumem 10.03  augment 0.191\n",
            "tick 13    kimg 52.0     time 1h 07m 47s   sec/tick 218.2   sec/kimg 54.54   maintenance 0.2    cpumem 4.40   gpumem 10.06  augment 0.187\n",
            "tick 14    kimg 56.0     time 1h 11m 25s   sec/tick 218.1   sec/kimg 54.53   maintenance 0.2    cpumem 4.40   gpumem 10.03  augment 0.177\n",
            "tick 15    kimg 60.0     time 1h 15m 04s   sec/tick 218.3   sec/kimg 54.58   maintenance 0.2    cpumem 4.40   gpumem 9.98   augment 0.182\n",
            "tick 16    kimg 64.0     time 1h 18m 42s   sec/tick 218.6   sec/kimg 54.64   maintenance 0.0    cpumem 4.40   gpumem 10.01  augment 0.170\n",
            "Evaluating metrics...\n",
            "{\"results\": {\"fid50k_full\": 7.818256130758751}, \"metric\": \"fid50k_full\", \"total_time\": 568.9119453430176, \"total_time_str\": \"9m 29s\", \"num_gpus\": 1, \"snapshot_pkl\": \"network-snapshot-000064.pkl\", \"timestamp\": 1665165671.1143003}\n",
            "tick 17    kimg 68.0     time 1h 31m 50s   sec/tick 217.4   sec/kimg 54.35   maintenance 570.7  cpumem 4.40   gpumem 10.05  augment 0.175\n",
            "tick 18    kimg 72.0     time 1h 35m 29s   sec/tick 218.0   sec/kimg 54.51   maintenance 0.2    cpumem 4.40   gpumem 10.05  augment 0.173\n",
            "tick 19    kimg 76.0     time 1h 39m 07s   sec/tick 218.2   sec/kimg 54.56   maintenance 0.2    cpumem 4.40   gpumem 10.03  augment 0.178\n",
            "tick 20    kimg 80.0     time 1h 42m 46s   sec/tick 218.7   sec/kimg 54.67   maintenance 0.0    cpumem 4.40   gpumem 10.06  augment 0.183\n",
            "tick 21    kimg 84.0     time 1h 46m 24s   sec/tick 218.1   sec/kimg 54.52   maintenance 0.2    cpumem 4.40   gpumem 9.98   augment 0.178\n",
            "tick 22    kimg 88.0     time 1h 50m 02s   sec/tick 217.4   sec/kimg 54.34   maintenance 0.2    cpumem 4.40   gpumem 9.97   augment 0.172\n",
            "tick 23    kimg 92.0     time 1h 53m 40s   sec/tick 218.2   sec/kimg 54.56   maintenance 0.2    cpumem 4.40   gpumem 10.02  augment 0.159\n",
            "tick 24    kimg 96.0     time 1h 57m 19s   sec/tick 218.6   sec/kimg 54.65   maintenance 0.0    cpumem 4.40   gpumem 9.98   augment 0.157\n",
            "Evaluating metrics...\n",
            "{\"results\": {\"fid50k_full\": 8.294785882151983}, \"metric\": \"fid50k_full\", \"total_time\": 567.6544721126556, \"total_time_str\": \"9m 28s\", \"num_gpus\": 1, \"snapshot_pkl\": \"network-snapshot-000096.pkl\", \"timestamp\": 1665167986.174536}\n",
            "tick 25    kimg 100.0    time 2h 10m 26s   sec/tick 218.0   sec/kimg 54.50   maintenance 569.2  cpumem 4.40   gpumem 10.07  augment 0.156\n",
            "tick 26    kimg 104.0    time 2h 14m 04s   sec/tick 217.9   sec/kimg 54.48   maintenance 0.2    cpumem 4.40   gpumem 10.05  augment 0.146\n",
            "tick 27    kimg 108.0    time 2h 17m 42s   sec/tick 217.5   sec/kimg 54.38   maintenance 0.2    cpumem 4.40   gpumem 10.00  augment 0.141\n",
            "tick 28    kimg 112.0    time 2h 21m 20s   sec/tick 218.5   sec/kimg 54.64   maintenance 0.0    cpumem 4.40   gpumem 9.99   augment 0.145\n",
            "tick 29    kimg 116.0    time 2h 24m 59s   sec/tick 217.9   sec/kimg 54.48   maintenance 0.2    cpumem 4.40   gpumem 9.99   augment 0.147\n",
            "tick 30    kimg 120.0    time 2h 28m 37s   sec/tick 217.9   sec/kimg 54.48   maintenance 0.2    cpumem 4.40   gpumem 10.04  augment 0.148\n",
            "tick 31    kimg 124.0    time 2h 32m 15s   sec/tick 218.2   sec/kimg 54.54   maintenance 0.2    cpumem 4.40   gpumem 10.01  augment 0.155\n",
            "tick 32    kimg 128.0    time 2h 35m 54s   sec/tick 218.4   sec/kimg 54.61   maintenance 0.0    cpumem 4.40   gpumem 9.98   augment 0.154\n",
            "Evaluating metrics...\n",
            "{\"results\": {\"fid50k_full\": 7.029323712224378}, \"metric\": \"fid50k_full\", \"total_time\": 568.4481317996979, \"total_time_str\": \"9m 28s\", \"num_gpus\": 1, \"snapshot_pkl\": \"network-snapshot-000128.pkl\", \"timestamp\": 1665170301.9689605}\n",
            "tick 33    kimg 132.0    time 2h 49m 01s   sec/tick 217.3   sec/kimg 54.34   maintenance 570.2  cpumem 4.40   gpumem 9.96   augment 0.160\n",
            "tick 34    kimg 136.0    time 2h 52m 39s   sec/tick 218.0   sec/kimg 54.50   maintenance 0.2    cpumem 4.40   gpumem 9.97   augment 0.156\n",
            "tick 35    kimg 140.0    time 2h 56m 18s   sec/tick 218.2   sec/kimg 54.56   maintenance 0.2    cpumem 4.40   gpumem 9.99   augment 0.151\n",
            "tick 36    kimg 144.0    time 2h 59m 57s   sec/tick 218.7   sec/kimg 54.67   maintenance 0.0    cpumem 4.40   gpumem 10.00  augment 0.160\n",
            "tick 37    kimg 148.0    time 3h 03m 35s   sec/tick 218.0   sec/kimg 54.51   maintenance 0.2    cpumem 4.40   gpumem 10.04  augment 0.156\n",
            "tick 38    kimg 152.0    time 3h 07m 12s   sec/tick 217.3   sec/kimg 54.33   maintenance 0.2    cpumem 4.40   gpumem 10.09  augment 0.163\n",
            "tick 39    kimg 156.0    time 3h 10m 51s   sec/tick 218.3   sec/kimg 54.57   maintenance 0.2    cpumem 4.40   gpumem 9.97   augment 0.157\n",
            "tick 40    kimg 160.0    time 3h 14m 30s   sec/tick 218.7   sec/kimg 54.67   maintenance 0.0    cpumem 4.40   gpumem 10.05  augment 0.166\n",
            "Evaluating metrics...\n",
            "{\"results\": {\"fid50k_full\": 7.479369425908977}, \"metric\": \"fid50k_full\", \"total_time\": 568.2552824020386, \"total_time_str\": \"9m 28s\", \"num_gpus\": 1, \"snapshot_pkl\": \"network-snapshot-000160.pkl\", \"timestamp\": 1665172617.5584586}\n",
            "tick 41    kimg 164.0    time 3h 27m 37s   sec/tick 218.0   sec/kimg 54.51   maintenance 569.7  cpumem 4.40   gpumem 9.97   augment 0.159\n",
            "tick 42    kimg 168.0    time 3h 31m 16s   sec/tick 218.0   sec/kimg 54.49   maintenance 0.2    cpumem 4.40   gpumem 9.99   augment 0.157\n",
            "tick 43    kimg 172.0    time 3h 34m 54s   sec/tick 217.6   sec/kimg 54.40   maintenance 0.2    cpumem 4.40   gpumem 10.00  augment 0.163\n",
            "tick 44    kimg 176.0    time 3h 38m 32s   sec/tick 218.6   sec/kimg 54.66   maintenance 0.0    cpumem 4.40   gpumem 10.00  augment 0.148\n",
            "tick 45    kimg 180.0    time 3h 42m 10s   sec/tick 218.0   sec/kimg 54.50   maintenance 0.2    cpumem 4.40   gpumem 10.10  augment 0.160\n",
            "tick 46    kimg 184.0    time 3h 45m 49s   sec/tick 218.0   sec/kimg 54.50   maintenance 0.2    cpumem 4.40   gpumem 9.95   augment 0.164\n",
            "tick 47    kimg 188.0    time 3h 49m 27s   sec/tick 218.3   sec/kimg 54.57   maintenance 0.2    cpumem 4.40   gpumem 10.05  augment 0.161\n",
            "tick 48    kimg 192.0    time 3h 53m 06s   sec/tick 218.5   sec/kimg 54.62   maintenance 0.0    cpumem 4.40   gpumem 9.99   augment 0.168\n",
            "Evaluating metrics...\n",
            "{\"results\": {\"fid50k_full\": 6.319945089309846}, \"metric\": \"fid50k_full\", \"total_time\": 573.6999771595001, \"total_time_str\": \"9m 34s\", \"num_gpus\": 1, \"snapshot_pkl\": \"network-snapshot-000192.pkl\", \"timestamp\": 1665174939.1774564}\n",
            "tick 49    kimg 196.0    time 4h 06m 18s   sec/tick 217.4   sec/kimg 54.34   maintenance 575.4  cpumem 4.40   gpumem 10.05  augment 0.172\n",
            "tick 50    kimg 200.0    time 4h 09m 57s   sec/tick 218.0   sec/kimg 54.50   maintenance 0.2    cpumem 4.40   gpumem 9.99   augment 0.163\n",
            "tick 51    kimg 204.0    time 4h 13m 35s   sec/tick 218.3   sec/kimg 54.56   maintenance 0.2    cpumem 4.40   gpumem 10.03  augment 0.160\n",
            "tick 52    kimg 208.0    time 4h 17m 14s   sec/tick 218.7   sec/kimg 54.66   maintenance 0.0    cpumem 4.40   gpumem 10.01  augment 0.159\n",
            "tick 53    kimg 212.0    time 4h 20m 52s   sec/tick 218.0   sec/kimg 54.49   maintenance 0.2    cpumem 4.40   gpumem 10.04  augment 0.160\n",
            "tick 54    kimg 216.0    time 4h 24m 30s   sec/tick 217.4   sec/kimg 54.34   maintenance 0.2    cpumem 4.40   gpumem 10.05  augment 0.166\n",
            "tick 55    kimg 220.0    time 4h 28m 08s   sec/tick 218.2   sec/kimg 54.55   maintenance 0.2    cpumem 4.40   gpumem 9.99   augment 0.157\n",
            "tick 56    kimg 224.0    time 4h 31m 47s   sec/tick 218.6   sec/kimg 54.65   maintenance 0.0    cpumem 4.40   gpumem 10.01  augment 0.151\n",
            "Evaluating metrics...\n",
            "{\"results\": {\"fid50k_full\": 7.186559297351054}, \"metric\": \"fid50k_full\", \"total_time\": 569.5927250385284, \"total_time_str\": \"9m 30s\", \"num_gpus\": 1, \"snapshot_pkl\": \"network-snapshot-000224.pkl\", \"timestamp\": 1665177256.2535887}\n",
            "tick 57    kimg 228.0    time 4h 44m 56s   sec/tick 218.0   sec/kimg 54.49   maintenance 571.4  cpumem 4.40   gpumem 10.06  augment 0.155\n",
            "tick 58    kimg 232.0    time 4h 48m 34s   sec/tick 218.0   sec/kimg 54.50   maintenance 0.2    cpumem 4.40   gpumem 10.02  augment 0.164\n",
            "tick 59    kimg 236.0    time 4h 52m 12s   sec/tick 217.6   sec/kimg 54.40   maintenance 0.2    cpumem 4.40   gpumem 9.98   augment 0.160\n",
            "tick 60    kimg 240.0    time 4h 55m 51s   sec/tick 218.6   sec/kimg 54.65   maintenance 0.0    cpumem 4.40   gpumem 10.05  augment 0.159\n",
            "tick 61    kimg 244.0    time 4h 59m 29s   sec/tick 218.0   sec/kimg 54.50   maintenance 0.2    cpumem 4.40   gpumem 10.04  augment 0.157\n",
            "tick 62    kimg 248.0    time 5h 03m 07s   sec/tick 218.0   sec/kimg 54.50   maintenance 0.2    cpumem 4.40   gpumem 10.11  augment 0.172\n",
            "tick 63    kimg 252.0    time 5h 06m 46s   sec/tick 218.3   sec/kimg 54.57   maintenance 0.2    cpumem 4.40   gpumem 10.05  augment 0.177\n",
            "tick 64    kimg 256.0    time 5h 10m 24s   sec/tick 218.5   sec/kimg 54.63   maintenance 0.0    cpumem 4.40   gpumem 10.04  augment 0.173\n",
            "Evaluating metrics...\n",
            "{\"results\": {\"fid50k_full\": 7.3574412739075346}, \"metric\": \"fid50k_full\", \"total_time\": 568.542466878891, \"total_time_str\": \"9m 29s\", \"num_gpus\": 1, \"snapshot_pkl\": \"network-snapshot-000256.pkl\", \"timestamp\": 1665179572.6736026}\n",
            "tick 65    kimg 260.0    time 5h 23m 32s   sec/tick 217.3   sec/kimg 54.34   maintenance 570.2  cpumem 4.40   gpumem 10.00  augment 0.178\n",
            "tick 66    kimg 264.0    time 5h 27m 10s   sec/tick 218.0   sec/kimg 54.51   maintenance 0.2    cpumem 4.40   gpumem 9.99   augment 0.174\n",
            "tick 67    kimg 268.0    time 5h 30m 49s   sec/tick 218.2   sec/kimg 54.55   maintenance 0.2    cpumem 4.40   gpumem 10.05  augment 0.160\n",
            "tick 68    kimg 272.0    time 5h 34m 27s   sec/tick 218.6   sec/kimg 54.66   maintenance 0.0    cpumem 4.40   gpumem 9.99   augment 0.169\n",
            "tick 69    kimg 276.0    time 5h 38m 05s   sec/tick 218.0   sec/kimg 54.49   maintenance 0.2    cpumem 4.40   gpumem 10.04  augment 0.163\n",
            "tick 70    kimg 280.0    time 5h 41m 43s   sec/tick 217.3   sec/kimg 54.32   maintenance 0.2    cpumem 4.40   gpumem 10.00  augment 0.159\n",
            "tick 71    kimg 284.0    time 5h 45m 21s   sec/tick 218.2   sec/kimg 54.56   maintenance 0.2    cpumem 4.40   gpumem 10.04  augment 0.160\n",
            "tick 72    kimg 288.0    time 5h 49m 00s   sec/tick 218.6   sec/kimg 54.66   maintenance 0.0    cpumem 4.40   gpumem 10.02  augment 0.172\n",
            "Evaluating metrics...\n",
            "{\"results\": {\"fid50k_full\": 7.402282492479652}, \"metric\": \"fid50k_full\", \"total_time\": 574.4203860759735, \"total_time_str\": \"9m 34s\", \"num_gpus\": 1, \"snapshot_pkl\": \"network-snapshot-000288.pkl\", \"timestamp\": 1665181894.2268465}\n",
            "tick 73    kimg 292.0    time 6h 02m 14s   sec/tick 218.0   sec/kimg 54.51   maintenance 576.0  cpumem 4.40   gpumem 10.06  augment 0.164\n",
            "tick 74    kimg 296.0    time 6h 05m 52s   sec/tick 218.0   sec/kimg 54.50   maintenance 0.2    cpumem 4.40   gpumem 10.00  augment 0.163\n",
            "tick 75    kimg 300.0    time 6h 09m 30s   sec/tick 217.6   sec/kimg 54.39   maintenance 0.2    cpumem 4.40   gpumem 9.98   augment 0.157\n",
            "tick 76    kimg 304.0    time 6h 13m 09s   sec/tick 218.6   sec/kimg 54.65   maintenance 0.0    cpumem 4.40   gpumem 10.17  augment 0.148\n",
            "tick 77    kimg 308.0    time 6h 16m 47s   sec/tick 217.9   sec/kimg 54.48   maintenance 0.2    cpumem 4.40   gpumem 9.97   augment 0.152\n",
            "tick 78    kimg 312.0    time 6h 20m 25s   sec/tick 217.9   sec/kimg 54.48   maintenance 0.2    cpumem 4.40   gpumem 10.01  augment 0.157\n",
            "tick 79    kimg 316.0    time 6h 24m 04s   sec/tick 218.2   sec/kimg 54.55   maintenance 0.2    cpumem 4.40   gpumem 10.06  augment 0.165\n",
            "tick 80    kimg 320.0    time 6h 27m 42s   sec/tick 218.5   sec/kimg 54.62   maintenance 0.0    cpumem 4.40   gpumem 10.00  augment 0.166\n",
            "Evaluating metrics...\n",
            "{\"results\": {\"fid50k_full\": 6.649924451168408}, \"metric\": \"fid50k_full\", \"total_time\": 568.897084236145, \"total_time_str\": \"9m 29s\", \"num_gpus\": 1, \"snapshot_pkl\": \"network-snapshot-000320.pkl\", \"timestamp\": 1665184210.796382}\n",
            "tick 81    kimg 324.0    time 6h 40m 50s   sec/tick 217.3   sec/kimg 54.33   maintenance 570.6  cpumem 4.40   gpumem 10.00  augment 0.161\n",
            "tick 82    kimg 328.0    time 6h 44m 28s   sec/tick 218.0   sec/kimg 54.49   maintenance 0.2    cpumem 4.40   gpumem 10.01  augment 0.173\n",
            "tick 83    kimg 332.0    time 6h 48m 07s   sec/tick 218.2   sec/kimg 54.55   maintenance 0.2    cpumem 4.40   gpumem 10.00  augment 0.165\n",
            "tick 84    kimg 336.0    time 6h 51m 45s   sec/tick 218.6   sec/kimg 54.65   maintenance 0.0    cpumem 4.40   gpumem 10.05  augment 0.164\n",
            "tick 85    kimg 340.0    time 6h 55m 23s   sec/tick 217.9   sec/kimg 54.49   maintenance 0.2    cpumem 4.40   gpumem 9.98   augment 0.165\n",
            "tick 86    kimg 344.0    time 6h 59m 01s   sec/tick 217.3   sec/kimg 54.33   maintenance 0.2    cpumem 4.40   gpumem 10.04  augment 0.170\n",
            "tick 87    kimg 348.0    time 7h 02m 39s   sec/tick 218.2   sec/kimg 54.54   maintenance 0.2    cpumem 4.40   gpumem 9.96   augment 0.173\n",
            "tick 88    kimg 352.0    time 7h 06m 18s   sec/tick 218.6   sec/kimg 54.65   maintenance 0.0    cpumem 4.40   gpumem 9.97   augment 0.174\n",
            "Evaluating metrics...\n",
            "{\"results\": {\"fid50k_full\": 7.191469732459664}, \"metric\": \"fid50k_full\", \"total_time\": 569.1532471179962, \"total_time_str\": \"9m 29s\", \"num_gpus\": 1, \"snapshot_pkl\": \"network-snapshot-000352.pkl\", \"timestamp\": 1665186527.4227178}\n",
            "tick 89    kimg 356.0    time 7h 19m 27s   sec/tick 218.0   sec/kimg 54.51   maintenance 571.2  cpumem 4.39   gpumem 10.06  augment 0.170\n",
            "tick 90    kimg 360.0    time 7h 23m 06s   sec/tick 218.0   sec/kimg 54.50   maintenance 0.2    cpumem 4.39   gpumem 9.98   augment 0.161\n",
            "tick 91    kimg 364.0    time 7h 26m 43s   sec/tick 217.5   sec/kimg 54.39   maintenance 0.2    cpumem 4.39   gpumem 10.20  augment 0.172\n",
            "tick 92    kimg 368.0    time 7h 30m 22s   sec/tick 218.6   sec/kimg 54.66   maintenance 0.0    cpumem 4.39   gpumem 10.06  augment 0.168\n",
            "tick 93    kimg 372.0    time 7h 34m 00s   sec/tick 218.0   sec/kimg 54.50   maintenance 0.2    cpumem 4.39   gpumem 10.05  augment 0.169\n",
            "tick 94    kimg 376.0    time 7h 37m 38s   sec/tick 218.0   sec/kimg 54.49   maintenance 0.2    cpumem 4.39   gpumem 10.01  augment 0.173\n",
            "tick 95    kimg 380.0    time 7h 41m 17s   sec/tick 218.2   sec/kimg 54.56   maintenance 0.2    cpumem 4.39   gpumem 10.02  augment 0.169\n",
            "tick 96    kimg 384.0    time 7h 44m 55s   sec/tick 218.4   sec/kimg 54.61   maintenance 0.0    cpumem 4.39   gpumem 9.97   augment 0.178\n",
            "Evaluating metrics...\n",
            "{\"results\": {\"fid50k_full\": 6.518071077039167}, \"metric\": \"fid50k_full\", \"total_time\": 570.0529510974884, \"total_time_str\": \"9m 30s\", \"num_gpus\": 1, \"snapshot_pkl\": \"network-snapshot-000384.pkl\", \"timestamp\": 1665188845.218835}\n",
            "tick 97    kimg 388.0    time 7h 58m 04s   sec/tick 217.4   sec/kimg 54.35   maintenance 571.7  cpumem 4.31   gpumem 9.98   augment 0.165\n",
            "\n",
            "Aborted!\n"
          ]
        }
      ],
      "source": [
        "import os\n",
        "\n",
        "# Modify these to suit your needs\n",
        "EXPERIMENTS = \"/content/drive/MyDrive/data/gan/experiments\"\n",
        "#NETWORK = \"network-snapshot-000200.pkl\"\n",
        "#RESUME = os.path.join(EXPERIMENTS, \"00000-circuit-auto1\", NETWORK)\n",
        "\n",
        "# If you want to shrink the set_up snapshot image grid, then change the number in training_loop.py in training dir\n",
        "# gw = np.clip(1024 // training_set.image_shape[2], 2, 32)\n",
        "# gh = np.clip(1024 // training_set.image_shape[1], 2, 32)\n",
        "\n",
        "DATA = \"/content/drive/MyDrive/data/gan/dataset/circuit\"\n",
        "SNAP = 8\n",
        "\n",
        "# Build the command and run it\n",
        "cmd = f\"/usr/bin/python3 /content/stylegan2-ada-pytorch/train.py --snap {SNAP} --resume {RESUME} --outdir {EXPERIMENTS} --batch {BATCH} --data {DATA} --freezed {FREEZED}\"\n",
        "!{cmd}"
      ]
    },
    {
      "cell_type": "markdown",
      "source": [
        "# Style Mixing\n",
        "\n",
        "Source Image(row), Reference Image(col)에 따라 Style Mixing을 진행함.\n",
        "\n",
        "이때, style에 대한 부분을 일부 고정시킴으로써 다양한 조합을 만들어낼 수 있음.\n",
        "\n",
        "이를 통해 reference image에 걸맞는 스타일의 이미지 변환이 가능하게 함.\n"
      ],
      "metadata": {
        "id": "W1ZwOEwUpIj9"
      }
    },
    {
      "cell_type": "code",
      "source": [
        "import os\n",
        "create_dir_path = \"/content/drive/MyDrive/data/gan/experiments/style_mixing_2\"\n",
        "os.makedirs(create_dir_path, exist_ok=True)"
      ],
      "metadata": {
        "id": "KshV9XGErden"
      },
      "execution_count": null,
      "outputs": []
    },
    {
      "cell_type": "code",
      "source": [
        "output_dir = create_dir_path\n",
        "rows = \"1,2,3,4\"\n",
        "cols = \"7,8,9,10\"\n",
        "styles = \"0-6\"\n",
        "pkl_file_path = \"/content/drive/MyDrive/data/gan/experiments/00003-circuit-auto1-batch32-resumeffhq256-freezed4/network-snapshot-000384.pkl\"\n",
        "\n",
        "cmd = f\"/usr/bin/python3 /content/stylegan2-ada-pytorch/style_mixing.py --outdir {output_dir} --rows {rows} --cols {cols} --styles {styles} --network {pkl_file_path}\"\n",
        "!{cmd}"
      ],
      "metadata": {
        "colab": {
          "base_uri": "https://localhost:8080/"
        },
        "id": "5DMCFHqYrdUh",
        "outputId": "3b7bbf2a-cfee-4fee-ae2c-d900581bfd0e"
      },
      "execution_count": null,
      "outputs": [
        {
          "output_type": "stream",
          "name": "stdout",
          "text": [
            "Loading networks from \"/content/drive/MyDrive/data/gan/experiments/00003-circuit-auto1-batch32-resumeffhq256-freezed4/network-snapshot-000384.pkl\"...\n",
            "Generating W vectors...\n",
            "Setting up PyTorch plugin \"bias_act_plugin\"... Done.\n",
            "Generating images...\n",
            "Setting up PyTorch plugin \"upfirdn2d_plugin\"... Done.\n",
            "Generating style-mixed images...\n",
            "Saving images...\n",
            "Saving image grid...\n"
          ]
        }
      ]
    },
    {
      "cell_type": "markdown",
      "source": [
        "style_mixing.py 파일 내 마지막을 아래와 같이 수정함으로써 다수의 결과 이미지가 중복되지 않도록 한다.\n",
        "\n",
        "canvas.save(f'{outdir}/grid_row_{row_seeds[0]}_to_{row_seeds[-1]}_col_{col_seeds[0]}_to_{col_seeds[-1]}_style_{col_styles[0]}_to_{col_styles[-1]}.png')"
      ],
      "metadata": {
        "id": "ZWaSOi9PyY4X"
      }
    },
    {
      "cell_type": "code",
      "source": [
        "import numpy as np\n",
        "r = ','.join(map(str, list(np.arange(21,31))))\n",
        "c = ','.join(map(str, list(np.arange(31,41))))\n",
        "print(r, c)"
      ],
      "metadata": {
        "colab": {
          "base_uri": "https://localhost:8080/"
        },
        "id": "WBlUz8NTiouu",
        "outputId": "442e5855-1944-4dd1-b317-b30f7cd7825b"
      },
      "execution_count": null,
      "outputs": [
        {
          "output_type": "stream",
          "name": "stdout",
          "text": [
            "21,22,23,24,25,26,27,28,29,30 31,32,33,34,35,36,37,38,39,40\n"
          ]
        }
      ]
    },
    {
      "cell_type": "code",
      "source": [
        "output_dir = create_dir_path\n",
        "\n",
        "#rows = \"1,2,3,4,6,7,8,9,10\"\n",
        "#cols = \"11,12,13,14,15,16,17,18,19,20\"\n",
        "rows = r\n",
        "cols = c\n",
        "pkl_file_path = \"/content/drive/MyDrive/data/gan/experiments/00003-circuit-auto1-batch32-resumeffhq256-freezed4/network-snapshot-000384.pkl\"\n",
        "styles = [\"0\", \"0-1\", \"0-2\", \"0-3\", \"0-4\", \"0-5\", \"0-6\"]\n",
        "\n",
        "for style in styles:\n",
        "  cmd = f\"/usr/bin/python3 /content/stylegan2-ada-pytorch/style_mixing.py --outdir {output_dir} --rows {rows} --cols {cols} --styles {style} --network {pkl_file_path}\"\n",
        "  !{cmd}"
      ],
      "metadata": {
        "colab": {
          "base_uri": "https://localhost:8080/"
        },
        "id": "LGOh1EGGt0t6",
        "outputId": "b01ac417-d139-46b5-f75b-0bbf7d5915bf"
      },
      "execution_count": null,
      "outputs": [
        {
          "output_type": "stream",
          "name": "stdout",
          "text": [
            "Loading networks from \"/content/drive/MyDrive/data/gan/experiments/00003-circuit-auto1-batch32-resumeffhq256-freezed4/network-snapshot-000384.pkl\"...\n",
            "Generating W vectors...\n",
            "Setting up PyTorch plugin \"bias_act_plugin\"... Done.\n",
            "Generating images...\n",
            "Setting up PyTorch plugin \"upfirdn2d_plugin\"... Done.\n",
            "Generating style-mixed images...\n",
            "Saving images...\n",
            "Saving image grid...\n",
            "Loading networks from \"/content/drive/MyDrive/data/gan/experiments/00003-circuit-auto1-batch32-resumeffhq256-freezed4/network-snapshot-000384.pkl\"...\n",
            "Generating W vectors...\n",
            "Setting up PyTorch plugin \"bias_act_plugin\"... Done.\n",
            "Generating images...\n",
            "Setting up PyTorch plugin \"upfirdn2d_plugin\"... Done.\n",
            "Generating style-mixed images...\n",
            "Saving images...\n",
            "Saving image grid...\n",
            "Loading networks from \"/content/drive/MyDrive/data/gan/experiments/00003-circuit-auto1-batch32-resumeffhq256-freezed4/network-snapshot-000384.pkl\"...\n",
            "Generating W vectors...\n",
            "Setting up PyTorch plugin \"bias_act_plugin\"... Done.\n",
            "Generating images...\n",
            "Setting up PyTorch plugin \"upfirdn2d_plugin\"... Done.\n",
            "Generating style-mixed images...\n",
            "Saving images...\n",
            "Saving image grid...\n",
            "Loading networks from \"/content/drive/MyDrive/data/gan/experiments/00003-circuit-auto1-batch32-resumeffhq256-freezed4/network-snapshot-000384.pkl\"...\n",
            "Generating W vectors...\n",
            "Setting up PyTorch plugin \"bias_act_plugin\"... Done.\n",
            "Generating images...\n",
            "Setting up PyTorch plugin \"upfirdn2d_plugin\"... Done.\n",
            "Generating style-mixed images...\n",
            "Saving images...\n",
            "Saving image grid...\n",
            "Loading networks from \"/content/drive/MyDrive/data/gan/experiments/00003-circuit-auto1-batch32-resumeffhq256-freezed4/network-snapshot-000384.pkl\"...\n",
            "Generating W vectors...\n",
            "Setting up PyTorch plugin \"bias_act_plugin\"... Done.\n",
            "Generating images...\n",
            "Setting up PyTorch plugin \"upfirdn2d_plugin\"... Done.\n",
            "Generating style-mixed images...\n",
            "Saving images...\n",
            "Saving image grid...\n",
            "Loading networks from \"/content/drive/MyDrive/data/gan/experiments/00003-circuit-auto1-batch32-resumeffhq256-freezed4/network-snapshot-000384.pkl\"...\n",
            "Generating W vectors...\n",
            "Setting up PyTorch plugin \"bias_act_plugin\"... Done.\n",
            "Generating images...\n",
            "Setting up PyTorch plugin \"upfirdn2d_plugin\"... Done.\n",
            "Generating style-mixed images...\n",
            "Saving images...\n",
            "Saving image grid...\n",
            "Loading networks from \"/content/drive/MyDrive/data/gan/experiments/00003-circuit-auto1-batch32-resumeffhq256-freezed4/network-snapshot-000384.pkl\"...\n",
            "Generating W vectors...\n",
            "Setting up PyTorch plugin \"bias_act_plugin\"... Done.\n",
            "Generating images...\n",
            "Setting up PyTorch plugin \"upfirdn2d_plugin\"... Done.\n",
            "Generating style-mixed images...\n",
            "Saving images...\n",
            "Saving image grid...\n"
          ]
        }
      ]
    },
    {
      "cell_type": "markdown",
      "metadata": {
        "id": "xMm34ut0wKCb"
      },
      "source": []
    }
  ],
  "metadata": {
    "colab": {
      "provenance": [],
      "collapsed_sections": []
    },
    "kernelspec": {
      "display_name": "Python 3",
      "name": "python3"
    },
    "language_info": {
      "name": "python"
    },
    "accelerator": "GPU",
    "gpuClass": "standard"
  },
  "nbformat": 4,
  "nbformat_minor": 0
}